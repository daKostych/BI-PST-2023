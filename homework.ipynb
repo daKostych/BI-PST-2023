{
 "cells": [
  {
   "cell_type": "markdown",
   "id": "e1072b19-7ff9-42f7-a635-858694142838",
   "metadata": {},
   "source": [
    "# PST DOMÁCÍ ÚLOHA - SKORE KREATIVITY DLE TYPU MOTIVACE"
   ]
  },
  {
   "cell_type": "code",
   "execution_count": 1,
   "id": "784b516f-64f5-46b1-b2eb-6bad6150435a",
   "metadata": {},
   "outputs": [
    {
     "name": "stdout",
     "output_type": "stream",
     "text": [
      "M = 1\n"
     ]
    }
   ],
   "source": [
    "K = 4\n",
    "L = 7\n",
    "M = ((K+L)*47) % 11 + 1\n",
    "print(f'M = {M}')"
   ]
  },
  {
   "cell_type": "markdown",
   "id": "545748f2-ae34-426f-8625-2e9eed0fb6b7",
   "metadata": {},
   "source": [
    "V našem případě budeme pracovat s datasetem č.1"
   ]
  },
  {
   "cell_type": "markdown",
   "id": "5e4926a7-2437-41db-8e0c-536b57962e52",
   "metadata": {},
   "source": [
    "## Úkol 1"
   ]
  },
  {
   "cell_type": "markdown",
   "id": "cd7cfa4f-1aa8-4ac7-8a51-2e8718f5897a",
   "metadata": {},
   "source": [
    "##### Načtěte datový soubor a rozdělte sledovanou proměnnou na příslušné dvě pozorované skupiny. Stručně popište data a zkoumaný problém. Pro každou skupinu zvlášť odhadněte střední hodnotu, rozptyl a medián příslušného rozdělení."
   ]
  },
  {
   "cell_type": "markdown",
   "id": "916055fb-0d0a-48a0-8eb4-5be1c513ab80",
   "metadata": {},
   "source": [
    "Importujeme potřebné knihovny"
   ]
  },
  {
   "cell_type": "code",
   "execution_count": 38,
   "id": "efed9495-a1b1-41d2-9348-fe2dffd24756",
   "metadata": {},
   "outputs": [],
   "source": [
    "import numpy as np\n",
    "import pandas as pd\n",
    "import matplotlib.pyplot as plt\n",
    "import seaborn as sns\n",
    "import statistics"
   ]
  },
  {
   "cell_type": "markdown",
   "id": "2d321e9a-799c-45c5-96ee-031a9635fe4e",
   "metadata": {},
   "source": [
    "Načítame data z csv-souboru a podívíáme se na informace o nich"
   ]
  },
  {
   "cell_type": "code",
   "execution_count": 39,
   "id": "10b48168-ee5e-4c75-894c-d9b9c4c114a8",
   "metadata": {},
   "outputs": [
    {
     "name": "stdout",
     "output_type": "stream",
     "text": [
      "<class 'pandas.core.frame.DataFrame'>\n",
      "RangeIndex: 47 entries, 0 to 46\n",
      "Data columns (total 1 columns):\n",
      " #   Column  Non-Null Count  Dtype \n",
      "---  ------  --------------  ----- \n",
      " 0   Data    47 non-null     object\n",
      "dtypes: object(1)\n",
      "memory usage: 504.0+ bytes\n"
     ]
    },
    {
     "data": {
      "text/plain": [
       "None"
      ]
     },
     "metadata": {},
     "output_type": "display_data"
    },
    {
     "data": {
      "text/html": [
       "<div>\n",
       "<style scoped>\n",
       "    .dataframe tbody tr th:only-of-type {\n",
       "        vertical-align: middle;\n",
       "    }\n",
       "\n",
       "    .dataframe tbody tr th {\n",
       "        vertical-align: top;\n",
       "    }\n",
       "\n",
       "    .dataframe thead th {\n",
       "        text-align: right;\n",
       "    }\n",
       "</style>\n",
       "<table border=\"1\" class=\"dataframe\">\n",
       "  <thead>\n",
       "    <tr style=\"text-align: right;\">\n",
       "      <th></th>\n",
       "      <th>Data</th>\n",
       "    </tr>\n",
       "  </thead>\n",
       "  <tbody>\n",
       "    <tr>\n",
       "      <th>0</th>\n",
       "      <td>1          5.000000  Extrinsic</td>\n",
       "    </tr>\n",
       "    <tr>\n",
       "      <th>1</th>\n",
       "      <td>2          5.400000  Extrinsic</td>\n",
       "    </tr>\n",
       "    <tr>\n",
       "      <th>2</th>\n",
       "      <td>3          6.100000  Extrinsic</td>\n",
       "    </tr>\n",
       "    <tr>\n",
       "      <th>3</th>\n",
       "      <td>4         10.900000  Extrinsic</td>\n",
       "    </tr>\n",
       "    <tr>\n",
       "      <th>4</th>\n",
       "      <td>5         11.800000  Extrinsic</td>\n",
       "    </tr>\n",
       "  </tbody>\n",
       "</table>\n",
       "</div>"
      ],
      "text/plain": [
       "                             Data\n",
       "0  1          5.000000  Extrinsic\n",
       "1  2          5.400000  Extrinsic\n",
       "2  3          6.100000  Extrinsic\n",
       "3  4         10.900000  Extrinsic\n",
       "4  5         11.800000  Extrinsic"
      ]
     },
     "metadata": {},
     "output_type": "display_data"
    }
   ],
   "source": [
    "df = pd.read_csv('data.csv')\n",
    "display(df.info())\n",
    "display(df.head())"
   ]
  },
  {
   "cell_type": "markdown",
   "id": "736a913c-b63e-4642-9e99-c1f2061c9968",
   "metadata": {},
   "source": [
    "Dělame parsing pro vytvoření příslušných slopců"
   ]
  },
  {
   "cell_type": "code",
   "execution_count": 40,
   "id": "9ef6c66e-645f-4152-ac56-af7c432488d4",
   "metadata": {},
   "outputs": [],
   "source": [
    "data = []\n",
    "count = 0\n",
    "\n",
    "for tmp in df['Data']:\n",
    "    data.append([])\n",
    "    tmp = str(tmp).split(' ')\n",
    "    for x in tmp:\n",
    "        if x != '':\n",
    "            data[count].append(x)\n",
    "    count += 1\n",
    "\n",
    "digital_data = []\n",
    "treatment = []\n",
    "for x in data:\n",
    "    digital_data.append(float(x[1]))\n",
    "    treatment.append(x[2])\n",
    "    \n",
    "df = df.drop('Data', axis=1)\n",
    "df['Data'] = digital_data\n",
    "df['Treatment'] = treatment"
   ]
  },
  {
   "cell_type": "code",
   "execution_count": 41,
   "id": "a29dbbbd-1894-439d-adac-f682f01b36fe",
   "metadata": {},
   "outputs": [
    {
     "data": {
      "text/html": [
       "<div>\n",
       "<style scoped>\n",
       "    .dataframe tbody tr th:only-of-type {\n",
       "        vertical-align: middle;\n",
       "    }\n",
       "\n",
       "    .dataframe tbody tr th {\n",
       "        vertical-align: top;\n",
       "    }\n",
       "\n",
       "    .dataframe thead th {\n",
       "        text-align: right;\n",
       "    }\n",
       "</style>\n",
       "<table border=\"1\" class=\"dataframe\">\n",
       "  <thead>\n",
       "    <tr style=\"text-align: right;\">\n",
       "      <th></th>\n",
       "      <th>Data</th>\n",
       "      <th>Treatment</th>\n",
       "    </tr>\n",
       "  </thead>\n",
       "  <tbody>\n",
       "    <tr>\n",
       "      <th>0</th>\n",
       "      <td>5.0</td>\n",
       "      <td>Extrinsic</td>\n",
       "    </tr>\n",
       "    <tr>\n",
       "      <th>1</th>\n",
       "      <td>5.4</td>\n",
       "      <td>Extrinsic</td>\n",
       "    </tr>\n",
       "    <tr>\n",
       "      <th>2</th>\n",
       "      <td>6.1</td>\n",
       "      <td>Extrinsic</td>\n",
       "    </tr>\n",
       "    <tr>\n",
       "      <th>3</th>\n",
       "      <td>10.9</td>\n",
       "      <td>Extrinsic</td>\n",
       "    </tr>\n",
       "    <tr>\n",
       "      <th>4</th>\n",
       "      <td>11.8</td>\n",
       "      <td>Extrinsic</td>\n",
       "    </tr>\n",
       "  </tbody>\n",
       "</table>\n",
       "</div>"
      ],
      "text/plain": [
       "   Data  Treatment\n",
       "0   5.0  Extrinsic\n",
       "1   5.4  Extrinsic\n",
       "2   6.1  Extrinsic\n",
       "3  10.9  Extrinsic\n",
       "4  11.8  Extrinsic"
      ]
     },
     "metadata": {},
     "output_type": "display_data"
    },
    {
     "data": {
      "text/html": [
       "<div>\n",
       "<style scoped>\n",
       "    .dataframe tbody tr th:only-of-type {\n",
       "        vertical-align: middle;\n",
       "    }\n",
       "\n",
       "    .dataframe tbody tr th {\n",
       "        vertical-align: top;\n",
       "    }\n",
       "\n",
       "    .dataframe thead th {\n",
       "        text-align: right;\n",
       "    }\n",
       "</style>\n",
       "<table border=\"1\" class=\"dataframe\">\n",
       "  <thead>\n",
       "    <tr style=\"text-align: right;\">\n",
       "      <th></th>\n",
       "      <th>Data</th>\n",
       "      <th>Treatment</th>\n",
       "    </tr>\n",
       "  </thead>\n",
       "  <tbody>\n",
       "    <tr>\n",
       "      <th>42</th>\n",
       "      <td>23.100000</td>\n",
       "      <td>Intrinsic</td>\n",
       "    </tr>\n",
       "    <tr>\n",
       "      <th>43</th>\n",
       "      <td>24.000000</td>\n",
       "      <td>Intrinsic</td>\n",
       "    </tr>\n",
       "    <tr>\n",
       "      <th>44</th>\n",
       "      <td>24.299999</td>\n",
       "      <td>Intrinsic</td>\n",
       "    </tr>\n",
       "    <tr>\n",
       "      <th>45</th>\n",
       "      <td>26.700001</td>\n",
       "      <td>Intrinsic</td>\n",
       "    </tr>\n",
       "    <tr>\n",
       "      <th>46</th>\n",
       "      <td>29.700001</td>\n",
       "      <td>Intrinsic</td>\n",
       "    </tr>\n",
       "  </tbody>\n",
       "</table>\n",
       "</div>"
      ],
      "text/plain": [
       "         Data  Treatment\n",
       "42  23.100000  Intrinsic\n",
       "43  24.000000  Intrinsic\n",
       "44  24.299999  Intrinsic\n",
       "45  26.700001  Intrinsic\n",
       "46  29.700001  Intrinsic"
      ]
     },
     "metadata": {},
     "output_type": "display_data"
    }
   ],
   "source": [
    "display(df.head())\n",
    "display(df.tail())"
   ]
  },
  {
   "cell_type": "markdown",
   "id": "7a08a9e0-fae0-4013-90ff-cb1d54c343aa",
   "metadata": {},
   "source": [
    "Vidíme, že v našem datasetu jsou 2 skupiny dat: vnější a vnitřní. Rozdělíme tedy ho na 2 příslušné datasety"
   ]
  },
  {
   "cell_type": "code",
   "execution_count": 42,
   "id": "68f2a262-4590-4ed0-98bd-6435d559add9",
   "metadata": {},
   "outputs": [],
   "source": [
    "extrinsic = df[df['Treatment'] == 'Extrinsic']\n",
    "intrinsic = df[df['Treatment'] == 'Intrinsic']"
   ]
  },
  {
   "cell_type": "code",
   "execution_count": 43,
   "id": "5f31e9b3-08bd-491e-b7f2-e940883afd8b",
   "metadata": {},
   "outputs": [
    {
     "data": {
      "text/html": [
       "<div>\n",
       "<style scoped>\n",
       "    .dataframe tbody tr th:only-of-type {\n",
       "        vertical-align: middle;\n",
       "    }\n",
       "\n",
       "    .dataframe tbody tr th {\n",
       "        vertical-align: top;\n",
       "    }\n",
       "\n",
       "    .dataframe thead th {\n",
       "        text-align: right;\n",
       "    }\n",
       "</style>\n",
       "<table border=\"1\" class=\"dataframe\">\n",
       "  <thead>\n",
       "    <tr style=\"text-align: right;\">\n",
       "      <th></th>\n",
       "      <th>Data</th>\n",
       "      <th>Treatment</th>\n",
       "    </tr>\n",
       "  </thead>\n",
       "  <tbody>\n",
       "    <tr>\n",
       "      <th>0</th>\n",
       "      <td>5.0</td>\n",
       "      <td>Extrinsic</td>\n",
       "    </tr>\n",
       "    <tr>\n",
       "      <th>1</th>\n",
       "      <td>5.4</td>\n",
       "      <td>Extrinsic</td>\n",
       "    </tr>\n",
       "    <tr>\n",
       "      <th>2</th>\n",
       "      <td>6.1</td>\n",
       "      <td>Extrinsic</td>\n",
       "    </tr>\n",
       "    <tr>\n",
       "      <th>3</th>\n",
       "      <td>10.9</td>\n",
       "      <td>Extrinsic</td>\n",
       "    </tr>\n",
       "    <tr>\n",
       "      <th>4</th>\n",
       "      <td>11.8</td>\n",
       "      <td>Extrinsic</td>\n",
       "    </tr>\n",
       "  </tbody>\n",
       "</table>\n",
       "</div>"
      ],
      "text/plain": [
       "   Data  Treatment\n",
       "0   5.0  Extrinsic\n",
       "1   5.4  Extrinsic\n",
       "2   6.1  Extrinsic\n",
       "3  10.9  Extrinsic\n",
       "4  11.8  Extrinsic"
      ]
     },
     "metadata": {},
     "output_type": "display_data"
    },
    {
     "name": "stdout",
     "output_type": "stream",
     "text": [
      "Velikost datasetu - 23\n"
     ]
    },
    {
     "data": {
      "text/html": [
       "<div>\n",
       "<style scoped>\n",
       "    .dataframe tbody tr th:only-of-type {\n",
       "        vertical-align: middle;\n",
       "    }\n",
       "\n",
       "    .dataframe tbody tr th {\n",
       "        vertical-align: top;\n",
       "    }\n",
       "\n",
       "    .dataframe thead th {\n",
       "        text-align: right;\n",
       "    }\n",
       "</style>\n",
       "<table border=\"1\" class=\"dataframe\">\n",
       "  <thead>\n",
       "    <tr style=\"text-align: right;\">\n",
       "      <th></th>\n",
       "      <th>Data</th>\n",
       "      <th>Treatment</th>\n",
       "    </tr>\n",
       "  </thead>\n",
       "  <tbody>\n",
       "    <tr>\n",
       "      <th>23</th>\n",
       "      <td>12.0</td>\n",
       "      <td>Intrinsic</td>\n",
       "    </tr>\n",
       "    <tr>\n",
       "      <th>24</th>\n",
       "      <td>12.0</td>\n",
       "      <td>Intrinsic</td>\n",
       "    </tr>\n",
       "    <tr>\n",
       "      <th>25</th>\n",
       "      <td>12.9</td>\n",
       "      <td>Intrinsic</td>\n",
       "    </tr>\n",
       "    <tr>\n",
       "      <th>26</th>\n",
       "      <td>13.6</td>\n",
       "      <td>Intrinsic</td>\n",
       "    </tr>\n",
       "    <tr>\n",
       "      <th>27</th>\n",
       "      <td>16.6</td>\n",
       "      <td>Intrinsic</td>\n",
       "    </tr>\n",
       "  </tbody>\n",
       "</table>\n",
       "</div>"
      ],
      "text/plain": [
       "    Data  Treatment\n",
       "23  12.0  Intrinsic\n",
       "24  12.0  Intrinsic\n",
       "25  12.9  Intrinsic\n",
       "26  13.6  Intrinsic\n",
       "27  16.6  Intrinsic"
      ]
     },
     "metadata": {},
     "output_type": "display_data"
    },
    {
     "name": "stdout",
     "output_type": "stream",
     "text": [
      "Velikost datasetu - 24\n"
     ]
    }
   ],
   "source": [
    "def analyse_dataset(dataset):\n",
    "    display(dataset.head())\n",
    "    print(f'Velikost datasetu - {dataset.shape[0]}')\n",
    "\n",
    "analyse_dataset(extrinsic)\n",
    "analyse_dataset(intrinsic)"
   ]
  },
  {
   "cell_type": "markdown",
   "id": "c8f93bf5-e816-47bc-ad8b-bb7b649d9f2d",
   "metadata": {},
   "source": [
    "Ted odhadneme střední hodnotu, rozptyl a medián pro každý vytvořený dataset."
   ]
  },
  {
   "cell_type": "markdown",
   "id": "a975ca0c-1c1a-437c-af6f-5cc8aed3a71a",
   "metadata": {},
   "source": [
    "Víme, že odhadem střední hodnoty je výběrový průměr. Použijeme funkci .mean() z Pandas"
   ]
  },
  {
   "cell_type": "code",
   "execution_count": 57,
   "id": "7c55e76a-055f-44b6-b61c-08f5b64dab36",
   "metadata": {},
   "outputs": [
    {
     "name": "stdout",
     "output_type": "stream",
     "text": [
      "Odhad střední hodnoty rozdělení Extrinsic - 15.739130695652173\n",
      "Odhad střední hodnoty rozdělení Intrinsic - 19.883333333333333\n"
     ]
    }
   ],
   "source": [
    "def mean_value(data):\n",
    "    return data.mean()\n",
    "\n",
    "print(f\"Odhad střední hodnoty rozdělení Extrinsic - {mean_value(extrinsic['Data'])}\")\n",
    "print(f\"Odhad střední hodnoty rozdělení Intrinsic - {mean_value(intrinsic['Data'])}\")"
   ]
  },
  {
   "cell_type": "markdown",
   "id": "ce56bad1-9a9a-423e-9b2a-a777a659378d",
   "metadata": {},
   "source": [
    "Odhadem rozptylu rozdělení je výběrový rozptyl. Použijeme funkci .var() z Pandas"
   ]
  },
  {
   "cell_type": "code",
   "execution_count": 59,
   "id": "a003a494-e53a-453a-92b1-46fea12fa039",
   "metadata": {},
   "outputs": [
    {
     "name": "stdout",
     "output_type": "stream",
     "text": [
      "Odhad rozptylu rozdělení Extrinsic - 27.58976481541531\n",
      "Odhad rozptylu rozdělení Intrinsic - 19.709276144927973\n"
     ]
    }
   ],
   "source": [
    "def variance_value(data):\n",
    "    return data.var()\n",
    "\n",
    "print(f\"Odhad rozptylu rozdělení Extrinsic - {variance_value(extrinsic['Data'])}\")\n",
    "print(f\"Odhad rozptylu rozdělení Intrinsic - {variance_value(intrinsic['Data'])}\")"
   ]
  },
  {
   "cell_type": "markdown",
   "id": "bd40e1d7-8b5d-44d3-8eb0-cfebfcc3f5f5",
   "metadata": {},
   "source": [
    "Pro výpočet mediánu každého rozdělení použijeme funkci .median() z Pandas"
   ]
  },
  {
   "cell_type": "code",
   "execution_count": 60,
   "id": "7036d625-7df6-44c7-9784-4c4d2bfbeeb5",
   "metadata": {},
   "outputs": [
    {
     "name": "stdout",
     "output_type": "stream",
     "text": [
      "Medián rozdělení Extrinsic - 17.200001\n",
      "Medián rozptylu rozdělení Intrinsic - 20.3999995\n"
     ]
    }
   ],
   "source": [
    "def median_value(data):\n",
    "    return data.median()\n",
    "\n",
    "print(f\"Medián rozdělení Extrinsic - {median_value(extrinsic['Data'])}\")\n",
    "print(f\"Medián rozptylu rozdělení Intrinsic - {median_value(intrinsic['Data'])}\")"
   ]
  },
  {
   "cell_type": "markdown",
   "id": "07979e87-4a3d-4405-9c12-c52e5c76ba59",
   "metadata": {},
   "source": [
    "## Úkol 2"
   ]
  },
  {
   "cell_type": "markdown",
   "id": "4a3ec812-9a0e-47a9-b851-723c113f3fbf",
   "metadata": {},
   "source": [
    "##### Pro každou skupinu zvlášť odhadněte hustotu a distribuční funkci pomocí histogramu a empirické distribuční funkce"
   ]
  },
  {
   "cell_type": "markdown",
   "id": "5321767a-3646-4c2d-8120-828b3342de05",
   "metadata": {},
   "source": [
    "Píšeme vhodnou funkci pro vykreslení odhad hustoty a zároven distribuční funkce. Pro vykreslení odhadu hustoty použijeme funkci .plot.kde(). Pro vykreselení empirické distribuční funkce použijeme .plot.hist() s nastáveným parametrem cumulative na True."
   ]
  },
  {
   "cell_type": "code",
   "execution_count": 94,
   "id": "91a5322f-a393-4046-b032-26509a5577a9",
   "metadata": {},
   "outputs": [],
   "source": [
    "def approx_plots(data, name):\n",
    "    print(f'Příslušné vizualizace pro rozdělení {name}')\n",
    "    fig, axs = plt.subplots(1, 2, figsize=(12, 6))\n",
    "    \n",
    "    density = data.plot.kde(ax=axs[0], legend=False)\n",
    "    axs[0].set_title(f'Density Plot {name}')\n",
    "    axs[0].set_xlabel('Data')\n",
    "    \n",
    "    distribution_function = data.plot.hist(cumulative = True, ax=axs[1], density = True, edgecolor='black', legend=False, color='lightblue')\n",
    "    axs[1].set_title(f'Empirical Distribution Plot {name}')\n",
    "    axs[1].set_xlabel('Data')"
   ]
  },
  {
   "cell_type": "code",
   "execution_count": 95,
   "id": "61af55d4-9ffe-4379-a1e3-94f15e5c96e3",
   "metadata": {},
   "outputs": [
    {
     "name": "stdout",
     "output_type": "stream",
     "text": [
      "Příslušné vizualizace pro rozdělení Extrinsic\n"
     ]
    },
    {
     "data": {
      "image/png": "[encoded data removed]",
      "text/plain": [
       "<Figure size 1200x600 with 2 Axes>"
      ]
     },
     "metadata": {},
     "output_type": "display_data"
    }
   ],
   "source": [
    "approx_plots(extrinsic, 'Extrinsic')"
   ]
  },
  {
   "cell_type": "code",
   "execution_count": 92,
   "id": "f23e84e5-9c4c-46a3-a1c1-0117d70713c7",
   "metadata": {},
   "outputs": [
    {
     "name": "stdout",
     "output_type": "stream",
     "text": [
      "Příslušné vizualizace pro rozdělení Intrinsic\n"
     ]
    },
    {
     "data": {
      "image/png": "[encoded data removed]",
      "text/plain": [
       "<Figure size 1200x600 with 2 Axes>"
      ]
     },
     "metadata": {},
     "output_type": "display_data"
    }
   ],
   "source": [
    "approx_plots(intrinsic, 'Intrinsic')"
   ]
  }
 ],
 "metadata": {
  "kernelspec": {
   "display_name": "Python 3 (ipykernel)",
   "language": "python",
   "name": "python3"
  },
  "language_info": {
   "codemirror_mode": {
    "name": "ipython",
    "version": 3
   },
   "file_extension": ".py",
   "mimetype": "text/x-python",
   "name": "python",
   "nbconvert_exporter": "python",
   "pygments_lexer": "ipython3",
   "version": "3.10.1"
  }
 },
 "nbformat": 4,
 "nbformat_minor": 5
}
